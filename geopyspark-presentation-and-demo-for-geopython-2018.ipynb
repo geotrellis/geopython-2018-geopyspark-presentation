{
 "cells": [
  {
   "cell_type": "markdown",
   "metadata": {
    "slideshow": {
     "slide_type": "slide"
    }
   },
   "source": [
    "![title](https://user-images.githubusercontent.com/11041248/39694897-20056604-51e9-11e8-9bb4-5ac921c52e4b.png)"
   ]
  },
  {
   "cell_type": "markdown",
   "metadata": {
    "slideshow": {
     "slide_type": "slide"
    }
   },
   "source": [
    "![title](https://user-images.githubusercontent.com/11041248/39694898-2032cab8-51e9-11e8-956e-1720936eae15.png)"
   ]
  },
  {
   "cell_type": "markdown",
   "metadata": {
    "slideshow": {
     "slide_type": "subslide"
    }
   },
   "source": [
    "![title](https://user-images.githubusercontent.com/11041248/39694899-20685b74-51e9-11e8-9b27-8439de2b4856.png)"
   ]
  },
  {
   "cell_type": "markdown",
   "metadata": {
    "slideshow": {
     "slide_type": "subslide"
    }
   },
   "source": [
    "![title](https://user-images.githubusercontent.com/11041248/39694900-209b8008-51e9-11e8-8c43-e3cdf0bdc1f5.png)"
   ]
  },
  {
   "cell_type": "markdown",
   "metadata": {
    "slideshow": {
     "slide_type": "subslide"
    }
   },
   "source": [
    "![title](https://user-images.githubusercontent.com/11041248/39694901-20c9c0bc-51e9-11e8-9f6d-652037aaf256.png)"
   ]
  },
  {
   "cell_type": "markdown",
   "metadata": {
    "slideshow": {
     "slide_type": "subslide"
    }
   },
   "source": [
    "![title](https://user-images.githubusercontent.com/11041248/39694902-20f85dfa-51e9-11e8-84a2-72e37734328e.png)"
   ]
  },
  {
   "cell_type": "markdown",
   "metadata": {
    "slideshow": {
     "slide_type": "slide"
    }
   },
   "source": [
    "![title](https://user-images.githubusercontent.com/11041248/39694904-2159590c-51e9-11e8-8ed9-cf340005f496.png)"
   ]
  },
  {
   "cell_type": "markdown",
   "metadata": {
    "slideshow": {
     "slide_type": "slide"
    }
   },
   "source": [
    "![title](https://user-images.githubusercontent.com/11041248/39694905-218045b2-51e9-11e8-9ca8-b1bb40362eeb.png)"
   ]
  },
  {
   "cell_type": "markdown",
   "metadata": {
    "slideshow": {
     "slide_type": "subslide"
    }
   },
   "source": [
    "![title](https://user-images.githubusercontent.com/11041248/39694906-21a7b502-51e9-11e8-87e9-1b15de2b84cd.png)"
   ]
  },
  {
   "cell_type": "markdown",
   "metadata": {
    "slideshow": {
     "slide_type": "slide"
    }
   },
   "source": [
    "![title](https://user-images.githubusercontent.com/11041248/39694907-21d5b1d2-51e9-11e8-99f1-44b22d570bac.png)"
   ]
  },
  {
   "cell_type": "markdown",
   "metadata": {
    "slideshow": {
     "slide_type": "slide"
    }
   },
   "source": [
    "![title](https://user-images.githubusercontent.com/11041248/39694908-21fc7cfe-51e9-11e8-9721-8e658fea77a4.png)"
   ]
  },
  {
   "cell_type": "markdown",
   "metadata": {
    "slideshow": {
     "slide_type": "slide"
    }
   },
   "source": [
    "![title](https://user-images.githubusercontent.com/11041248/39694911-224183e4-51e9-11e8-8289-aec684bf35dc.png)"
   ]
  },
  {
   "cell_type": "markdown",
   "metadata": {
    "slideshow": {
     "slide_type": "slide"
    }
   },
   "source": [
    "![title](https://user-images.githubusercontent.com/11041248/39694913-2268aac8-51e9-11e8-8799-ddfb1b38faa7.png)"
   ]
  },
  {
   "cell_type": "markdown",
   "metadata": {
    "slideshow": {
     "slide_type": "slide"
    }
   },
   "source": [
    "![title](https://user-images.githubusercontent.com/11041248/39694914-228f3b84-51e9-11e8-8cfb-29ec95df0547.png)"
   ]
  },
  {
   "cell_type": "code",
   "execution_count": null,
   "metadata": {
    "slideshow": {
     "slide_type": "subslide"
    }
   },
   "outputs": [],
   "source": [
    "# Importing our libraries\n",
    "\n",
    "import geopyspark as gps\n",
    "import numpy as np\n",
    "import pyproj\n",
    "import fiona\n",
    "import folium\n",
    "\n",
    "from functools import partial\n",
    "from shapely.geometry import Point\n",
    "from shapely.ops import transform\n",
    "from pyspark import SparkContext, StorageLevel\n",
    "from pyspark.sql import SparkSession"
   ]
  },
  {
   "cell_type": "code",
   "execution_count": null,
   "metadata": {
    "slideshow": {
     "slide_type": "subslide"
    }
   },
   "outputs": [],
   "source": [
    "# Setting up the SparkContext\n",
    "\n",
    "conf = gps.geopyspark_conf(appName=\"geopython-notebook-emr\", master='local[*]')\n",
    "conf.set('spark.default.parallelism', 8)\n",
    "conf.set('spark.ui.enabled', True)\n",
    "conf.set('spark.yarn.executor.memoryOverhead', '1G')\n",
    "conf.set('spark.yarn.driver.memoryOverhead', '1G')\n",
    "conf.set('spark.master.memory', '9500M')\n",
    "conf.set('spark.dynamicAllocation.enabled', True)\n",
    "conf.set('spark.shuffle.service.enabled', True)\n",
    "conf.set('spark.shuffle.compress', True)\n",
    "conf.set('spark.shuffle.spill.compress', True)\n",
    "conf.set('spark.rdd.compress', True)\n",
    "conf.set('spark.driver.maxResultSize', '3G')\n",
    "conf.set('spark.task.maxFailures', '33')\n",
    "conf.set('spark.executor.extraJavaOptions', '-XX:+UseParallelGC')\n",
    "\n",
    "sc = SparkContext(conf=conf)\n",
    "\n",
    "hadoopConf = sc._jsc.hadoopConfiguration()\n",
    "hadoopConf.set(\"fs.s3.impl\", \"org.apache.hadoop.fs.s3native.NativeS3FileSystem\")\n",
    "hadoopConf.set(\"fs.s3.awsAccessKeyId\", '')\n",
    "hadoopConf.set(\"fs.s3.awsSecretAccessKey\", '')\n",
    "\n",
    "pysc = gps.get_spark_context()\n",
    "session = SparkSession.builder.config(conf=pysc.getConf()).enableHiveSupport().getOrCreate()"
   ]
  },
  {
   "cell_type": "markdown",
   "metadata": {
    "slideshow": {
     "slide_type": "slide"
    }
   },
   "source": [
    "![title](https://user-images.githubusercontent.com/11041248/39694915-22b74ca0-51e9-11e8-9aac-7598c8587ccd.png)"
   ]
  },
  {
   "cell_type": "markdown",
   "metadata": {
    "slideshow": {
     "slide_type": "slide"
    }
   },
   "source": [
    "![title](https://user-images.githubusercontent.com/11041248/39694916-22e14a14-51e9-11e8-80cb-7eb6048f2f3a.png)"
   ]
  },
  {
   "cell_type": "markdown",
   "metadata": {
    "slideshow": {
     "slide_type": "slide"
    }
   },
   "source": [
    "![title](https://user-images.githubusercontent.com/11041248/39694917-2304a590-51e9-11e8-8944-abe11bbc8dfc.png)"
   ]
  },
  {
   "cell_type": "code",
   "execution_count": null,
   "metadata": {
    "slideshow": {
     "slide_type": "subslide"
    }
   },
   "outputs": [],
   "source": [
    "# produce_tiled_layer is a helper function made specifically for this presentation\n",
    "source_layer = gps.produce_tiled_layer(value=1)\n",
    "\n",
    "source_layer.to_numpy_rdd().values().collect()[0].cells"
   ]
  },
  {
   "cell_type": "code",
   "execution_count": null,
   "metadata": {
    "slideshow": {
     "slide_type": "fragment"
    }
   },
   "outputs": [],
   "source": [
    "source_layer_plus_one = source_layer + 1\n",
    "\n",
    "source_layer_plus_one.to_numpy_rdd().values().collect()[0].cells"
   ]
  },
  {
   "cell_type": "code",
   "execution_count": null,
   "metadata": {
    "slideshow": {
     "slide_type": "fragment"
    }
   },
   "outputs": [],
   "source": [
    "source_layer_plus_source = source_layer + source_layer\n",
    "\n",
    "source_layer_plus_source.to_numpy_rdd().values().collect()[0].cells"
   ]
  },
  {
   "cell_type": "markdown",
   "metadata": {
    "slideshow": {
     "slide_type": "slide"
    }
   },
   "source": [
    "![title](https://user-images.githubusercontent.com/11041248/39694918-233413de-51e9-11e8-919f-c1f44c237e8c.png)"
   ]
  },
  {
   "cell_type": "code",
   "execution_count": null,
   "metadata": {
    "slideshow": {
     "slide_type": "subslide"
    }
   },
   "outputs": [],
   "source": [
    "# Creates a 3x3 neighborhood for the focal operatation\n",
    "square = gps.Square(1)\n",
    "\n",
    "# Performs a focal Sum operation using the neighborhood\n",
    "summed_layer = source_layer.focal(operation=gps.Operation.SUM, neighborhood=square)\n",
    "\n",
    "summed_layer.to_numpy_rdd().values().collect()[0].cells"
   ]
  },
  {
   "cell_type": "markdown",
   "metadata": {
    "slideshow": {
     "slide_type": "slide"
    }
   },
   "source": [
    "![title](https://user-images.githubusercontent.com/11041248/39694919-2366f06a-51e9-11e8-88de-52143b41d4be.png)"
   ]
  },
  {
   "cell_type": "markdown",
   "metadata": {
    "slideshow": {
     "slide_type": "slide"
    }
   },
   "source": [
    "![title](https://user-images.githubusercontent.com/11041248/39697266-a1d44c5c-51f0-11e8-9166-a32928f25b41.png)"
   ]
  },
  {
   "cell_type": "markdown",
   "metadata": {
    "slideshow": {
     "slide_type": "slide"
    }
   },
   "source": [
    "# Creating a Friction Layer of the Continental United States"
   ]
  },
  {
   "cell_type": "markdown",
   "metadata": {
    "slideshow": {
     "slide_type": "fragment"
    }
   },
   "source": [
    "Friction Layer Factors:\n",
    " - Roads\n",
    " - Trails and Paths\n",
    " - Waterways\n",
    " - Land Cover\n",
    " - Elevation"
   ]
  },
  {
   "cell_type": "markdown",
   "metadata": {
    "slideshow": {
     "slide_type": "slide"
    }
   },
   "source": [
    "## Establishing Shared Values"
   ]
  },
  {
   "cell_type": "code",
   "execution_count": null,
   "metadata": {
    "slideshow": {
     "slide_type": "fragment"
    }
   },
   "outputs": [],
   "source": [
    "# The URI that the layers will be saved/read from\n",
    "layer_uri = \"s3://geopyspark-demo/geopython/catalog/emr\"\n",
    "\n",
    "# The AttributeStore for the URI\n",
    "store = gps.AttributeStore(layer_uri)"
   ]
  },
  {
   "cell_type": "markdown",
   "metadata": {
    "slideshow": {
     "slide_type": "slide"
    }
   },
   "source": [
    "## Reading and Formatting the OSM Data"
   ]
  },
  {
   "cell_type": "markdown",
   "metadata": {
    "slideshow": {
     "slide_type": "subslide"
    }
   },
   "source": [
    "### Roads and Trails"
   ]
  },
  {
   "cell_type": "code",
   "execution_count": null,
   "metadata": {
    "slideshow": {
     "slide_type": "subslide"
    }
   },
   "outputs": [],
   "source": [
    "# Read in the OSM data as an ORC file\n",
    "file_uri = \"s3://geotrellis-test/xterrain/continental-us.orc\"\n",
    "osm_dataframe = session.read.orc(file_uri)"
   ]
  },
  {
   "cell_type": "code",
   "execution_count": null,
   "metadata": {
    "slideshow": {
     "slide_type": "fragment"
    }
   },
   "outputs": [],
   "source": [
    "# Get all of the lines that are contained within the DataFrame\n",
    "osm = gps.vector_pipe.osm_reader.from_dataframe(osm_dataframe)\n",
    "lines = osm.get_line_features_rdd()"
   ]
  },
  {
   "cell_type": "code",
   "execution_count": null,
   "metadata": {
    "slideshow": {
     "slide_type": "fragment"
    }
   },
   "outputs": [],
   "source": [
    "# Only roads/paths are of interest\n",
    "highways = lines.filter(lambda feature: 'highway' in feature.properties.tags)\n",
    "\n",
    "waterways = lines.filter(lambda feature: 'waterway' in feature.properties.tags)"
   ]
  },
  {
   "cell_type": "code",
   "execution_count": null,
   "metadata": {
    "slideshow": {
     "slide_type": "subslide"
    }
   },
   "outputs": [],
   "source": [
    "path_tags = ['footway', 'steps', 'bridleway', 'path', 'cycleway', 'escalator']\n",
    "\n",
    "# Filter out the highways into roads and paths\n",
    "\n",
    "roads = highways.filter(lambda feature: feature.properties.tags['highway'] not in path_tags)\n",
    "paths = highways.filter(lambda feature: feature.properties.tags['highway'] in path_tags)"
   ]
  },
  {
   "cell_type": "code",
   "execution_count": null,
   "metadata": {
    "slideshow": {
     "slide_type": "fragment"
    }
   },
   "outputs": [],
   "source": [
    "# Encode the the paths with the default walking speed\n",
    "path_features = paths\\\n",
    "    .map(lambda feature: gps.Feature(feature.geometry, gps.CellValue(3.74, 3.74)))\\\n",
    "    .persist(StorageLevel.MEMORY_AND_DISK_SER)"
   ]
  },
  {
   "cell_type": "code",
   "execution_count": null,
   "metadata": {
    "slideshow": {
     "slide_type": "subslide"
    }
   },
   "outputs": [],
   "source": [
    "# This cell contains the logic that assigns each section of road a\n",
    "# speed based on the type of road that section is.\n",
    "\n",
    "default_speeds = {\n",
    "    'motorway': 65,\n",
    "    'trunk': 45,\n",
    "    'primary': 40,\n",
    "    'secondary': 35,\n",
    "    'tertiary': 30,\n",
    "    'unclassified': 20,\n",
    "    'residential': 20,\n",
    "    'service': 15,\n",
    "    'motorway_link': 45,\n",
    "    'trunk_link': 40,\n",
    "    'primary_link': 35,\n",
    "    'secondary_link': 30,\n",
    "    'tertiary_link': 25,\n",
    "    'living_street': 5,\n",
    "    'pedestrian': 5,\n",
    "    'track': 15,\n",
    "    'road': 30}\n",
    "\n",
    "words = ['maxspeed', 'ambiguous', 'signals', \n",
    "         'none', 'walk', 'variable', \n",
    "         'national', 'fixme', 'unposted', 'implicit']\n",
    "\n",
    "def is_number(s):\n",
    "    try:\n",
    "        float(s)\n",
    "        return True\n",
    "    except ValueError:\n",
    "        return False\n",
    "\n",
    "def default_speed(highway):\n",
    "    if not highway in default_speeds:\n",
    "        return default_speeds['road']\n",
    "    else:\n",
    "        return default_speeds[highway]\n",
    "\n",
    "def get_maxspeed(speed, units, highway):\n",
    "    speeds = speed.split(';|,-')\n",
    "    maxspeed = 0\n",
    "    for sp in speeds:\n",
    "        sp = sp.replace(units, '')\n",
    "        if (is_number(sp)):\n",
    "            if units == 'kph':\n",
    "                sp = float(sp) / 1.609344 \n",
    "            elif units == 'knots':\n",
    "                sp = 0.868976 * float(knots)\n",
    "            else:\n",
    "                sp = float(sp)\n",
    "                \n",
    "            if sp > maxspeed:\n",
    "                maxspeed = sp\n",
    "    if maxspeed > 0:\n",
    "        speed = maxspeed\n",
    "    else:\n",
    "        speed = default_speed(highway)\n",
    "\n",
    "    return speed\n",
    "\n",
    "def get_highway_cellvalue(osm_feature):   \n",
    "    highway = osm_feature.properties.tags['highway']\n",
    "    speed = osm_feature.properties.tags.get('maxspeed', '')\n",
    "                                \n",
    "    speed = speed.lower().strip()\n",
    "        \n",
    "    # if we don't have a speed, give it a default\n",
    "    if len(speed) == 0:\n",
    "        speed = default_speed(highway)\n",
    "    elif not is_number(speed):\n",
    "        if 'kph' in speed:\n",
    "            speed = get_maxspeed(speed, 'kph', highway)\n",
    "        elif 'km/h' in speed:\n",
    "            speed = get_maxspeed(speed, 'km/h', highway)\n",
    "        elif 'kmh' in speed:\n",
    "            speed = get_maxspeed(speed, 'kmh', highway)\n",
    "        elif 'mph' in speed:\n",
    "            speed = get_maxspeed(speed, 'mph', highway)\n",
    "        elif 'knots' in speed:\n",
    "            speed = get_maxspeed(speed, 'knots', highway)\n",
    "        elif speed in words:\n",
    "            speed = default_speed(highway)\n",
    "        else:\n",
    "            speed = get_maxspeed(speed, '', highway)            \n",
    "    if float(speed) <= 0.0:\n",
    "        speed = default_speed(highway)\n",
    "\n",
    "    speed = float(speed)\n",
    "    return gps.CellValue(speed, speed)"
   ]
  },
  {
   "cell_type": "code",
   "execution_count": null,
   "metadata": {
    "slideshow": {
     "slide_type": "subslide"
    }
   },
   "outputs": [],
   "source": [
    "# Encode the road speeds as feature properties for rasterization\n",
    "road_features = roads\\\n",
    "    .map(lambda feature: gps.Feature(feature.geometry, get_highway_cellvalue(feature)))\\\n",
    "    .persist(StorageLevel.MEMORY_AND_DISK_SER)"
   ]
  },
  {
   "cell_type": "markdown",
   "metadata": {
    "slideshow": {
     "slide_type": "subslide"
    }
   },
   "source": [
    "### Waterways"
   ]
  },
  {
   "cell_type": "code",
   "execution_count": null,
   "metadata": {
    "slideshow": {
     "slide_type": "subslide"
    }
   },
   "outputs": [],
   "source": [
    "waterways_pmts_map = {\n",
    "    'river': 0.3,\n",
    "    'stream': 0.7,\n",
    "    'brook': 0.8,\n",
    "    'canal': 0.35,\n",
    "    'drain': 0.85,\n",
    "    'ditch': 0.8\n",
    "}\n",
    "\n",
    "def get_waterway_cellvalue(feature):\n",
    "    waterway = feature.properties.tags['waterway']\n",
    "    \n",
    "    pmt = waterways_pmts_map.get(waterway)\n",
    "    \n",
    "    if pmt:\n",
    "        value = pmt\n",
    "    else:\n",
    "        value = 0\n",
    "        \n",
    "    return gps.CellValue(value, value)"
   ]
  },
  {
   "cell_type": "code",
   "execution_count": null,
   "metadata": {
    "slideshow": {
     "slide_type": "subslide"
    }
   },
   "outputs": [],
   "source": [
    "waterways = lines.filter(lambda feature: 'waterway' in feature.properties.tags)"
   ]
  },
  {
   "cell_type": "code",
   "execution_count": null,
   "metadata": {
    "slideshow": {
     "slide_type": "fragment"
    }
   },
   "outputs": [],
   "source": [
    "# Encode the water speeds as feature properties for rasterization\n",
    "waterway_features = waterways\\\n",
    "    .map(lambda feature: gps.Feature(feature.geometry, get_waterway_cellvalue(feature)))\\\n",
    "    .persist(StorageLevel.MEMORY_AND_DISK_SER)"
   ]
  },
  {
   "cell_type": "markdown",
   "metadata": {
    "slideshow": {
     "slide_type": "slide"
    }
   },
   "source": [
    "## Rasterizing OSM Features"
   ]
  },
  {
   "cell_type": "code",
   "execution_count": null,
   "metadata": {
    "slideshow": {
     "slide_type": "fragment"
    }
   },
   "outputs": [],
   "source": [
    "# Combine the roads, paths, and waterways into one RDD and then rasterize them\n",
    "osm_raster = gps.geotrellis.rasterize_features(\n",
    "    features = pysc.union([road_features, path_features, waterway_features]),\n",
    "    crs = 4326,\n",
    "    zoom = 10,\n",
    "    cell_type=gps.CellType.INT8RAW,\n",
    "    partition_strategy = gps.SpatialPartitionStrategy(1000))\\\n",
    ".convert_data_type(gps.CellType.FLOAT32, -2147483648.0)\\\n",
    ".persist(StorageLevel.MEMORY_AND_DISK_SER)"
   ]
  },
  {
   "cell_type": "markdown",
   "metadata": {
    "slideshow": {
     "slide_type": "slide"
    }
   },
   "source": [
    "## Saving the Rasterized OSM Features"
   ]
  },
  {
   "cell_type": "code",
   "execution_count": null,
   "metadata": {
    "slideshow": {
     "slide_type": "fragment"
    }
   },
   "outputs": [],
   "source": [
    "tiled_osm = osm_raster.tile_to_layout(gps.GlobalLayout(), target_crs=3857).with_no_data(0.0)\n",
    "osm_pyramid = tiled_osm.pyramid(partition_strategy=gps.SpatialPartitionStrategy(1000))\n",
    "\n",
    "osm_layer_name = \"rasterized-osm-features\"\n",
    "\n",
    "# Save layer histogram for later use\n",
    "osm_hist = osm_pyramid.get_histogram()\n",
    "store.layer(osm_layer_name).write(\"histogram\", osm_hist.to_dict())\n",
    "\n",
    "# Save layer pyramid\n",
    "for zoom, layer in sorted(osm_pyramid.levels.items(), reverse=True):\n",
    "    print(\"Writing zoom\", zoom)\n",
    "    store.layer(osm_layer_name, zoom).delete(\"metadata\")\n",
    "    gps.write(layer_uri, osm_layer_name, layer)"
   ]
  },
  {
   "cell_type": "markdown",
   "metadata": {
    "slideshow": {
     "slide_type": "slide"
    }
   },
   "source": [
    "## Displaying the Rasterized OSM Features"
   ]
  },
  {
   "cell_type": "code",
   "execution_count": null,
   "metadata": {
    "slideshow": {
     "slide_type": "fragment"
    }
   },
   "outputs": [],
   "source": [
    "osm_layer_name = \"rasterized-osm-features\"\n",
    "osm_hist = gps.Histogram.from_dict(store.layer(osm_layer_name).read(\"histogram\"))\n",
    "osm_color_map = gps.ColorMap.build(osm_hist, 'magma')\n",
    "\n",
    "osm_tms = gps.TMS.build((layer_uri, osm_layer_name), osm_color_map)\n",
    "osm_tms.bind(\"0.0.0.0\", 56583)"
   ]
  },
  {
   "cell_type": "code",
   "execution_count": null,
   "metadata": {
    "slideshow": {
     "slide_type": "fragment"
    }
   },
   "outputs": [],
   "source": [
    "osm_map = folium.Map()\n",
    "folium.TileLayer(tiles='http://localhost:56583/tile/{z}/{x}/{y}.png',\n",
    "                 attr=\"GeoPySpark\").add_to(osm_map)"
   ]
  },
  {
   "cell_type": "code",
   "execution_count": null,
   "metadata": {
    "scrolled": true,
    "slideshow": {
     "slide_type": "subslide"
    }
   },
   "outputs": [],
   "source": [
    "osm_map"
   ]
  },
  {
   "cell_type": "markdown",
   "metadata": {
    "slideshow": {
     "slide_type": "slide"
    }
   },
   "source": [
    "## Reading and Formatting the NLCD Data"
   ]
  },
  {
   "cell_type": "code",
   "execution_count": null,
   "metadata": {
    "slideshow": {
     "slide_type": "fragment"
    }
   },
   "outputs": [],
   "source": [
    "# Reading NLCD Data\n",
    "nlcd = gps.geotiff.get(\n",
    "    gps.LayerType.SPATIAL, \n",
    "    \"s3://gt-rasters/nlcd/2011/tiles\", \n",
    "    crs=\"epsg:4326\", \n",
    "    max_tile_size=512, \n",
    "    num_partitions=1000)"
   ]
  },
  {
   "cell_type": "code",
   "execution_count": null,
   "metadata": {
    "slideshow": {
     "slide_type": "fragment"
    }
   },
   "outputs": [],
   "source": [
    "tiled_nlcd = nlcd.tile_to_layout(\n",
    "    osm_raster.layer_metadata, \n",
    "    target_crs=4326, \n",
    "    partition_strategy=gps.SpatialPartitionStrategy(1000))"
   ]
  },
  {
   "cell_type": "code",
   "execution_count": null,
   "metadata": {
    "slideshow": {
     "slide_type": "subslide"
    }
   },
   "outputs": [],
   "source": [
    "# Reclassify the NLCD values based on estimated walking impact\n",
    "\n",
    "nlcd_map = {\n",
    "    11.0: 0.0,\n",
    "    12.0: 0.15,\n",
    "    21.0: 0.9,\n",
    "    22.0: 0.9,\n",
    "    23.0: 0.9,\n",
    "    24.0: 0.95,\n",
    "    31.0: 0.1,\n",
    "    41.0: 0.7,\n",
    "    42.0: 0.65,\n",
    "    43.0: 0.75,\n",
    "    51.0: 0.75,\n",
    "    52.0: 0.75,\n",
    "    71.0: 0.8,\n",
    "    81.0: 0.8,\n",
    "    82.0: 0.8,\n",
    "    90.0: 0.2,\n",
    "    95.0: 0.25\n",
    "}\n",
    "\n",
    "nlcd_pmts = tiled_nlcd\\\n",
    "    .convert_data_type(gps.CellType.FLOAT32, 0.0)\\\n",
    "    .reclassify(nlcd_map, float, gps.ClassificationStrategy.EXACT)"
   ]
  },
  {
   "cell_type": "markdown",
   "metadata": {
    "slideshow": {
     "slide_type": "slide"
    }
   },
   "source": [
    "## Saving the Reclassified NLCD Layer"
   ]
  },
  {
   "cell_type": "code",
   "execution_count": null,
   "metadata": {
    "slideshow": {
     "slide_type": "fragment"
    }
   },
   "outputs": [],
   "source": [
    "nlcd_wm = nlcd_pmts.tile_to_layout(gps.GlobalLayout(), target_crs=3857)\n",
    "nlcd_pyramid = nlcd_wm.pyramid(partition_strategy=gps.SpatialPartitionStrategy(1000))\n",
    "\n",
    "nlcd_layer_name = \"raclassified-nlcd\"\n",
    "\n",
    "# Save layer histogram for later use\n",
    "nlcd_hist = nlcd_pyramid.get_histogram()\n",
    "store.layer(nlcd_layer_name).write(\"histogram\", nlcd_hist.to_dict())\n",
    "\n",
    "# Save layer pyramid\n",
    "for zoom, layer in sorted(nlcd_pyramid.levels.items(), reverse=True):\n",
    "    print(\"Writing zoom\", zoom)\n",
    "    store.layer(nlcd_layer_name, zoom).delete(\"metadata\")\n",
    "    gps.write(layer_uri, nlcd_layer_name, layer)"
   ]
  },
  {
   "cell_type": "markdown",
   "metadata": {
    "slideshow": {
     "slide_type": "slide"
    }
   },
   "source": [
    "## Displaying the Reclassified NLCD Data"
   ]
  },
  {
   "cell_type": "code",
   "execution_count": null,
   "metadata": {
    "slideshow": {
     "slide_type": "fragment"
    }
   },
   "outputs": [],
   "source": [
    "nlcd_layer_name = \"raclassified-nlcd\"\n",
    "nlcd_hist = gps.Histogram.from_dict(store.layer(nlcd_layer_name).read(\"histogram\"))\n",
    "nlcd_color_map = gps.ColorMap.build(nlcd_hist, 'magma')\n",
    "\n",
    "nlcd_tms = gps.TMS.build((layer_uri, nlcd_layer_name), nlcd_color_map)\n",
    "nlcd_tms.bind(\"0.0.0.0\", 54970)"
   ]
  },
  {
   "cell_type": "code",
   "execution_count": null,
   "metadata": {
    "slideshow": {
     "slide_type": "fragment"
    }
   },
   "outputs": [],
   "source": [
    "nlcd_map = folium.Map()\n",
    "folium.TileLayer(tiles='http://localhost:54970/tile/{z}/{x}/{y}.png',\n",
    "                 attr=\"GeoPySpark\").add_to(nlcd_map)"
   ]
  },
  {
   "cell_type": "code",
   "execution_count": null,
   "metadata": {
    "slideshow": {
     "slide_type": "subslide"
    }
   },
   "outputs": [],
   "source": [
    "nlcd_map"
   ]
  },
  {
   "cell_type": "markdown",
   "metadata": {
    "slideshow": {
     "slide_type": "slide"
    }
   },
   "source": [
    "## Reading and Formatting the NED Data"
   ]
  },
  {
   "cell_type": "code",
   "execution_count": null,
   "metadata": {
    "slideshow": {
     "slide_type": "fragment"
    }
   },
   "outputs": [],
   "source": [
    "ned_location = 's3://azavea-datahub/raw/ned-13arcsec-geotiff/'"
   ]
  },
  {
   "cell_type": "code",
   "execution_count": null,
   "metadata": {
    "slideshow": {
     "slide_type": "fragment"
    }
   },
   "outputs": [],
   "source": [
    "ned = gps.geotiff.get(\n",
    "    gps.LayerType.SPATIAL, \n",
    "    ned_location, \n",
    "    num_partitions=1000, \n",
    "    max_tile_size=256)"
   ]
  },
  {
   "cell_type": "code",
   "execution_count": null,
   "metadata": {
    "slideshow": {
     "slide_type": "fragment"
    }
   },
   "outputs": [],
   "source": [
    "tiled_ned = ned.tile_to_layout(\n",
    "    osm_raster.layer_metadata, \n",
    "    partition_strategy=gps.SpatialPartitionStrategy(1000)\n",
    ").convert_data_type(gps.CellType.FLOAT32, 0.0).persist(StorageLevel.MEMORY_AND_DISK_SER)"
   ]
  },
  {
   "cell_type": "markdown",
   "metadata": {
    "slideshow": {
     "slide_type": "slide"
    }
   },
   "source": [
    "## Saving the NED Layer"
   ]
  },
  {
   "cell_type": "code",
   "execution_count": null,
   "metadata": {
    "slideshow": {
     "slide_type": "fragment"
    }
   },
   "outputs": [],
   "source": [
    "ned_wm = tiled_ned.tile_to_layout(gps.GlobalLayout(), target_crs=3857)\n",
    "ned_pyramid = ned_wm.pyramid(partition_strategy=gps.SpatialPartitionStrategy(1000))\n",
    "\n",
    "ned_layer_name = \"ned-layer\"\n",
    "\n",
    "# Save layer histogram for later use\n",
    "ned_hist = ned_pyramid.get_histogram()\n",
    "store.layer(ned_layer_name).write(\"histogram\", ned_hist.to_dict())\n",
    "\n",
    "# Save layer pyramid\n",
    "for zoom, layer in sorted(ned_pyramid.levels.items(), reverse=True):\n",
    "    print(\"Writing zoom\", zoom)\n",
    "    store.layer(ned_layer_name, zoom).delete(\"metadata\")\n",
    "    gps.write(layer_uri, ned_layer_name, layer)"
   ]
  },
  {
   "cell_type": "markdown",
   "metadata": {
    "slideshow": {
     "slide_type": "slide"
    }
   },
   "source": [
    "## Displaying the NED Data"
   ]
  },
  {
   "cell_type": "code",
   "execution_count": null,
   "metadata": {
    "slideshow": {
     "slide_type": "fragment"
    }
   },
   "outputs": [],
   "source": [
    "ned_layer_name = \"ned-layer\"\n",
    "ned_hist = gps.Histogram.from_dict(store.layer(ned_layer_name).read(\"histogram\"))\n",
    "ned_color_map = gps.ColorMap.build(ned_hist, 'magma')\n",
    "\n",
    "ned_tms = gps.TMS.build((layer_uri, ned_layer_name), ned_color_map)\n",
    "ned_tms.bind(\"0.0.0.0\", 59610)"
   ]
  },
  {
   "cell_type": "code",
   "execution_count": null,
   "metadata": {
    "slideshow": {
     "slide_type": "fragment"
    }
   },
   "outputs": [],
   "source": [
    "ned_map = folium.Map()\n",
    "folium.TileLayer(tiles='http://localhost:59610/tile/{z}/{x}/{y}.png',\n",
    "                 attr=\"GeoPySpark\").add_to(ned_map)"
   ]
  },
  {
   "cell_type": "code",
   "execution_count": null,
   "metadata": {
    "slideshow": {
     "slide_type": "subslide"
    }
   },
   "outputs": [],
   "source": [
    "ned_map"
   ]
  },
  {
   "cell_type": "markdown",
   "metadata": {
    "slideshow": {
     "slide_type": "slide"
    }
   },
   "source": [
    "## Caculating Tobler Walking Speeds"
   ]
  },
  {
   "cell_type": "code",
   "execution_count": null,
   "metadata": {
    "slideshow": {
     "slide_type": "fragment"
    }
   },
   "outputs": [],
   "source": [
    "# Calculate Slope from the NED layer\n",
    "zfactor = gps.geotrellis.zfactor_lat_lng_calculator('Meters')\n",
    "slope_raster = tiled_ned.slope(zfactor)"
   ]
  },
  {
   "cell_type": "code",
   "execution_count": null,
   "metadata": {
    "slideshow": {
     "slide_type": "fragment"
    }
   },
   "outputs": [],
   "source": [
    "# From the Slope layer, calculate the Tobler walking speed\n",
    "tobler_raster = slope_raster.tobler()\n",
    "\n",
    "# Add the Tobler and Reclassified NLCD layers to adjusted the Tobler values\n",
    "adjusted_tobler = tobler_raster + nlcd_pmts"
   ]
  },
  {
   "cell_type": "code",
   "execution_count": null,
   "metadata": {
    "slideshow": {
     "slide_type": "fragment"
    }
   },
   "outputs": [],
   "source": [
    "# The Friction layer is produced by taking the local max between the adjusted Tobler values and the\n",
    "# rasterized OSM layer\n",
    "friction_with_roads = adjusted_tobler.local_max(osm_raster)"
   ]
  },
  {
   "cell_type": "code",
   "execution_count": null,
   "metadata": {
    "slideshow": {
     "slide_type": "subslide"
    }
   },
   "outputs": [],
   "source": [
    "reprojected = friction_with_roads.tile_to_layout(\n",
    "    target_crs = 3857,\n",
    "    layout = gps.GlobalLayout(tile_size=256),\n",
    "    resample_method = gps.ResampleMethod.MAX\n",
    ").convert_data_type(gps.CellType.FLOAT32, 0.0)"
   ]
  },
  {
   "cell_type": "code",
   "execution_count": null,
   "metadata": {
    "slideshow": {
     "slide_type": "fragment"
    }
   },
   "outputs": [],
   "source": [
    "pyramid = reprojected\\\n",
    "    .pyramid(partition_strategy=gps.SpatialPartitionStrategy(1000))\\\n",
    "    .persist()"
   ]
  },
  {
   "cell_type": "markdown",
   "metadata": {
    "slideshow": {
     "slide_type": "slide"
    }
   },
   "source": [
    "## Writing the Friction Layer to S3"
   ]
  },
  {
   "cell_type": "code",
   "execution_count": null,
   "metadata": {
    "slideshow": {
     "slide_type": "fragment"
    }
   },
   "outputs": [],
   "source": [
    "layer_name = \"us-friction-surface-layer-tms\"\n",
    "\n",
    "# Save layer histogram for later use\n",
    "hist = pyramid.get_histogram()\n",
    "store.layer(layer_name).write(\"histogram\", hist.to_dict())\n",
    "\n",
    "# Save layer pyramid\n",
    "for zoom, layer in sorted(pyramid.levels.items(), reverse=True):\n",
    "    print(\"Writing zoom\", zoom)\n",
    "    store.layer(layer_name, zoom).delete(\"metadata\")\n",
    "    gps.write(layer_uri, layer_name, layer)"
   ]
  },
  {
   "cell_type": "markdown",
   "metadata": {
    "slideshow": {
     "slide_type": "slide"
    }
   },
   "source": [
    "## Displaying the Fricition Layer"
   ]
  },
  {
   "cell_type": "code",
   "execution_count": null,
   "metadata": {
    "slideshow": {
     "slide_type": "fragment"
    }
   },
   "outputs": [],
   "source": [
    "layer_name = \"us-friction-surface-layer-tms\"\n",
    "hist = gps.Histogram.from_dict(store.layer(layer_name).read(\"histogram\"))\n",
    "color_map = gps.ColorMap.build(hist, 'magma')\n",
    "\n",
    "tms = gps.TMS.build((layer_uri, layer_name), color_map)\n",
    "tms.bind(\"0.0.0.0\", 55110)"
   ]
  },
  {
   "cell_type": "code",
   "execution_count": null,
   "metadata": {
    "slideshow": {
     "slide_type": "fragment"
    }
   },
   "outputs": [],
   "source": [
    "friction_map = folium.Map()\n",
    "folium.TileLayer(tiles='http://localhost:55110/tile/{z}/{x}/{y}.png',\n",
    "                 attr=\"GeoPySpark\").add_to(friction_map)"
   ]
  },
  {
   "cell_type": "code",
   "execution_count": null,
   "metadata": {
    "slideshow": {
     "slide_type": "subslide"
    }
   },
   "outputs": [],
   "source": [
    "friction_map"
   ]
  },
  {
   "cell_type": "markdown",
   "metadata": {
    "collapsed": true,
    "slideshow": {
     "slide_type": "slide"
    }
   },
   "source": [
    "# Calculating Cost Distance From the Friction Layer"
   ]
  },
  {
   "cell_type": "code",
   "execution_count": null,
   "metadata": {
    "slideshow": {
     "slide_type": "fragment"
    }
   },
   "outputs": [],
   "source": [
    "# The point of interest\n",
    "point = Point(-75.15415012836456, 39.96134940667086)"
   ]
  },
  {
   "cell_type": "code",
   "execution_count": null,
   "metadata": {
    "slideshow": {
     "slide_type": "fragment"
    }
   },
   "outputs": [],
   "source": [
    "# The point of interest needs to be reprojected to WebMercator in order\n",
    "# to perform cost distance\n",
    "\n",
    "project = partial(\n",
    "    pyproj.transform,  \n",
    "    pyproj.Proj(init='epsg:4326'),\n",
    "    pyproj.Proj(init='epsg:3857'))\n",
    "\n",
    "reprojected_point = transform(project, point)"
   ]
  },
  {
   "cell_type": "code",
   "execution_count": null,
   "metadata": {
    "slideshow": {
     "slide_type": "fragment"
    }
   },
   "outputs": [],
   "source": [
    "# Calculate Cost Distance using the Quotient of the average walking speed divided by the reprojected\n",
    "# friction layer\n",
    "cost_distance = gps.cost_distance(3.74 / reprojected,\n",
    "                                  [reprojected_point],\n",
    "                                  max_distance=50000).persist(StorageLevel.MEMORY_AND_DISK_SER)"
   ]
  },
  {
   "cell_type": "markdown",
   "metadata": {
    "slideshow": {
     "slide_type": "slide"
    }
   },
   "source": [
    "## Saving the Cost Distance Layer"
   ]
  },
  {
   "cell_type": "code",
   "execution_count": null,
   "metadata": {
    "slideshow": {
     "slide_type": "fragment"
    }
   },
   "outputs": [],
   "source": [
    "cost_pyramid = cost_distance.pyramid(partition_strategy=gps.SpatialPartitionStrategy(1000))\n",
    "\n",
    "cost_layer_name = \"cost-distance-2\"\n",
    "\n",
    "# Save layer histogram for later use\n",
    "cost_hist = cost_pyramid.get_histogram()\n",
    "store.layer(cost_layer_name).write(\"histogram\", cost_hist.to_dict())\n",
    "\n",
    "# Save layer pyramid\n",
    "for zoom, layer in sorted(cost_pyramid.levels.items(), reverse=True):\n",
    "    print(\"Writing zoom\", zoom)\n",
    "    store.layer(cost_layer_name, zoom).delete(\"metadata\")\n",
    "    gps.write(layer_uri, cost_layer_name, layer)"
   ]
  },
  {
   "cell_type": "markdown",
   "metadata": {
    "slideshow": {
     "slide_type": "slide"
    }
   },
   "source": [
    "## Displaying the Cost Distance Layer"
   ]
  },
  {
   "cell_type": "code",
   "execution_count": null,
   "metadata": {
    "slideshow": {
     "slide_type": "fragment"
    }
   },
   "outputs": [],
   "source": [
    "cost_layer_name = \"cost-distance-2\"\n",
    "cost_hist = gps.Histogram.from_dict(store.layer(cost_layer_name).read(\"histogram\"))\n",
    "cost_color_map = gps.ColorMap.build(cost_hist, 'magma')\n",
    "cost_tms = gps.TMS.build((layer_uri, cost_layer_name), cost_color_map)\n",
    "cost_tms.bind(\"0.0.0.0\", 50208)"
   ]
  },
  {
   "cell_type": "code",
   "execution_count": null,
   "metadata": {
    "slideshow": {
     "slide_type": "fragment"
    }
   },
   "outputs": [],
   "source": [
    "cost_map = folium.Map()\n",
    "folium.TileLayer(tiles='http://localhost:50208/tile/{z}/{x}/{y}.png',\n",
    "                 attr=\"GeoPySpark\").add_to(cost_map)"
   ]
  },
  {
   "cell_type": "code",
   "execution_count": null,
   "metadata": {
    "slideshow": {
     "slide_type": "slide"
    }
   },
   "outputs": [],
   "source": [
    "cost_map"
   ]
  },
  {
   "cell_type": "markdown",
   "metadata": {
    "collapsed": true,
    "slideshow": {
     "slide_type": "slide"
    }
   },
   "source": [
    "![title](https://user-images.githubusercontent.com/11041248/39698721-46d6c59a-51f6-11e8-8e8a-847157280110.png)"
   ]
  },
  {
   "cell_type": "markdown",
   "metadata": {
    "slideshow": {
     "slide_type": "slide"
    }
   },
   "source": [
    "![title](https://user-images.githubusercontent.com/11041248/39698722-46ff4d12-51f6-11e8-8e38-b4a6f1bf45d6.png)"
   ]
  },
  {
   "cell_type": "markdown",
   "metadata": {
    "slideshow": {
     "slide_type": "slide"
    }
   },
   "source": [
    "![title](https://user-images.githubusercontent.com/11041248/39698723-47286404-51f6-11e8-9873-39eab072060b.png)"
   ]
  },
  {
   "cell_type": "markdown",
   "metadata": {
    "slideshow": {
     "slide_type": "slide"
    }
   },
   "source": [
    "![title](https://user-images.githubusercontent.com/11041248/39698724-474dc960-51f6-11e8-9e9a-714137a78d8d.png)"
   ]
  },
  {
   "cell_type": "markdown",
   "metadata": {
    "slideshow": {
     "slide_type": "slide"
    }
   },
   "source": [
    "![title](https://user-images.githubusercontent.com/11041248/39698725-477b7a54-51f6-11e8-9188-319d951ecea4.png)"
   ]
  },
  {
   "cell_type": "markdown",
   "metadata": {
    "slideshow": {
     "slide_type": "slide"
    }
   },
   "source": [
    "![title](https://user-images.githubusercontent.com/11041248/39698775-855479f2-51f6-11e8-9bd3-307bf0a4dabd.png)"
   ]
  },
  {
   "cell_type": "markdown",
   "metadata": {
    "slideshow": {
     "slide_type": "slide"
    }
   },
   "source": [
    "![title](https://user-images.githubusercontent.com/11041248/39698776-85804bae-51f6-11e8-8dbe-758df3276a13.png)"
   ]
  },
  {
   "cell_type": "markdown",
   "metadata": {
    "slideshow": {
     "slide_type": "slide"
    }
   },
   "source": [
    "![title](https://user-images.githubusercontent.com/11041248/39698777-85a95026-51f6-11e8-8542-61fdbad39614.png)"
   ]
  },
  {
   "cell_type": "markdown",
   "metadata": {
    "slideshow": {
     "slide_type": "slide"
    }
   },
   "source": [
    "![title](https://user-images.githubusercontent.com/11041248/39806706-d38d70d0-537a-11e8-977a-fc06ca577a57.png)"
   ]
  }
 ],
 "metadata": {
  "celltoolbar": "Slideshow",
  "kernelspec": {
   "display_name": "Python 3",
   "language": "python",
   "name": "python3"
  },
  "language_info": {
   "codemirror_mode": {
    "name": "ipython",
    "version": 3
   },
   "file_extension": ".py",
   "mimetype": "text/x-python",
   "name": "python",
   "nbconvert_exporter": "python",
   "pygments_lexer": "ipython3",
   "version": "3.5.2"
  }
 },
 "nbformat": 4,
 "nbformat_minor": 2
}
